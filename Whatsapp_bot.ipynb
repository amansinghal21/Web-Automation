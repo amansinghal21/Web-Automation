{
 "cells": [
  {
   "cell_type": "code",
   "execution_count": 15,
   "metadata": {},
   "outputs": [],
   "source": [
    "from selenium import webdriver\n",
    "from webdriver_manager.chrome import ChromeDriverManager\n",
    "from selenium.webdriver.common.keys import Keys\n",
    "import random"
   ]
  },
  {
   "cell_type": "code",
   "execution_count": 2,
   "metadata": {},
   "outputs": [],
   "source": [
    "# pip install webdriver_manager"
   ]
  },
  {
   "cell_type": "code",
   "execution_count": 3,
   "metadata": {},
   "outputs": [
    {
     "name": "stdout",
     "output_type": "stream",
     "text": [
      "\n",
      "Looking for [chromedriver 81.0.4044.138 win32] driver in cache \n",
      "File found in cache by path [C:\\Users\\AmanApurva\\.wdm\\drivers\\chromedriver\\81.0.4044.138\\win32\\chromedriver.exe]\n"
     ]
    }
   ],
   "source": [
    "chrome = webdriver.Chrome(ChromeDriverManager().install())"
   ]
  },
  {
   "cell_type": "code",
   "execution_count": 4,
   "metadata": {},
   "outputs": [],
   "source": [
    "chrome.get(\"https://web.whatsapp.com\")"
   ]
  },
  {
   "cell_type": "code",
   "execution_count": 11,
   "metadata": {},
   "outputs": [],
   "source": [
    "search_box = chrome.find_element_by_class_name(\"_2S1VP\")\n",
    "search_box.send_keys(\"chinu\")\n",
    "search_box.send_keys(Keys.ENTER)"
   ]
  },
  {
   "cell_type": "code",
   "execution_count": 13,
   "metadata": {},
   "outputs": [],
   "source": [
    "message_box = chrome.find_element_by_xpath('//*[@id=\"main\"]/footer/div[1]/div[2]/div/div[2]')\n",
    "message_box.send_keys(\"hello\")\n",
    "message_box.send_keys(Keys.ENTER)"
   ]
  },
  {
   "cell_type": "code",
   "execution_count": 14,
   "metadata": {},
   "outputs": [],
   "source": [
    "for i in range(20):\n",
    "    message_box = chrome.find_element_by_xpath('//*[@id=\"main\"]/footer/div[1]/div[2]/div/div[2]')\n",
    "    message_box.send_keys(\"hello\")\n",
    "    message_box.send_keys(Keys.ENTER)"
   ]
  },
  {
   "cell_type": "code",
   "execution_count": 16,
   "metadata": {},
   "outputs": [],
   "source": [
    "emoji = [\":-)\" , \":-(\" , \"^_^\" , \">_<\" , \";-)\"]\n",
    "\n",
    "for i in range(20):\n",
    "    message_box = chrome.find_element_by_xpath('//*[@id=\"main\"]/footer/div[1]/div[2]/div/div[2]')\n",
    "    message_box.send_keys(random.choice(emoji))\n",
    "    message_box.send_keys(Keys.ENTER)"
   ]
  },
  {
   "cell_type": "markdown",
   "metadata": {},
   "source": [
    "## Whole Program in one go"
   ]
  },
  {
   "cell_type": "code",
   "execution_count": 1,
   "metadata": {},
   "outputs": [
    {
     "name": "stdout",
     "output_type": "stream",
     "text": [
      "\n",
      "Looking for [chromedriver 81.0.4044.138 win32] driver in cache \n",
      "File found in cache by path [C:\\Users\\AmanApurva\\.wdm\\drivers\\chromedriver\\81.0.4044.138\\win32\\chromedriver.exe]\n"
     ]
    }
   ],
   "source": [
    "from selenium import webdriver\n",
    "from webdriver_manager.chrome import ChromeDriverManager\n",
    "from selenium.webdriver.common.keys import Keys\n",
    "import random\n",
    "import time\n",
    "\n",
    "chrome = webdriver.Chrome(ChromeDriverManager().install())\n",
    "time.sleep(2)\n",
    "\n",
    "chrome.get(\"https://web.whatsapp.com\")\n",
    "time.sleep(10)\n",
    "\n",
    "search_box = chrome.find_element_by_class_name(\"_2S1VP\")\n",
    "search_box.send_keys(\"chinu\")\n",
    "search_box.send_keys(Keys.ENTER)\n",
    "\n",
    "emoji = [\":-)\" , \":-(\" , \"^_^\" , \">_<\" , \";-)\"]\n",
    "\n",
    "for i in range(10):\n",
    "    message_box = chrome.find_element_by_xpath('//*[@id=\"main\"]/footer/div[1]/div[2]/div/div[2]')\n",
    "    message_box.send_keys(random.choice(emoji))\n",
    "    message_box.send_keys(Keys.ENTER)"
   ]
  },
  {
   "cell_type": "code",
   "execution_count": null,
   "metadata": {},
   "outputs": [],
   "source": []
  }
 ],
 "metadata": {
  "kernelspec": {
   "display_name": "Python 3",
   "language": "python",
   "name": "python3"
  },
  "language_info": {
   "codemirror_mode": {
    "name": "ipython",
    "version": 3
   },
   "file_extension": ".py",
   "mimetype": "text/x-python",
   "name": "python",
   "nbconvert_exporter": "python",
   "pygments_lexer": "ipython3",
   "version": "3.6.10"
  }
 },
 "nbformat": 4,
 "nbformat_minor": 4
}
